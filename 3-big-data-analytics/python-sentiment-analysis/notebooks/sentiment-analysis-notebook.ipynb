{
 "cells": [
  {
   "cell_type": "code",
   "execution_count": null,
   "metadata": {},
   "outputs": [],
   "source": [
    "#Import necessary packages\n",
    "import pandas as pd\n",
    "import numpy as np\n",
    "\n",
    "import os \n",
    "import matplotlib\n",
    "import matplotlib.pyplot as plt"
   ]
  },
  {
   "cell_type": "code",
   "execution_count": null,
   "metadata": {},
   "outputs": [],
   "source": [
    "#import train and test data\n",
    "train = pd.read_csv('/Users/williamchan/Desktop/sentiment_train.csv')\n",
    "test = pd.read_csv('/Users/williamchan/Desktop/sentiment_test.csv')"
   ]
  },
  {
   "cell_type": "code",
   "execution_count": null,
   "metadata": {},
   "outputs": [],
   "source": [
    "#combined dfs for pre-processing\n",
    "train['Type'] = 'train'\n",
    "test['Type'] = 'test'"
   ]
  },
  {
   "cell_type": "code",
   "execution_count": null,
   "metadata": {},
   "outputs": [],
   "source": [
    "#combined dfs for pre-processing\n",
    "frames = [train, test]\n",
    "df = pd.concat(frames)"
   ]
  },
  {
   "cell_type": "code",
   "execution_count": null,
   "metadata": {
    "scrolled": true
   },
   "outputs": [],
   "source": [
    "#generate text features\n",
    "import textstat\n",
    "\n",
    "def preprocess(x):\n",
    "    return textstat.flesch_reading_ease(x)\n",
    "    \n",
    "df['len'] = df['Sentence'].apply(lambda x: len(x))\n",
    "df['syllable_count'] = df['Sentence'].apply(lambda x: textstat.syllable_count(x))\n",
    "df['lexicon_count'] = df['Sentence'].apply(lambda x: textstat.lexicon_count(x))\n",
    "df['sentence_count'] = df['Sentence'].apply(lambda x: textstat.sentence_count(x))\n",
    "df['flesch_reading_ease'] = df['Sentence'].apply(lambda x: textstat.flesch_reading_ease(x))\n",
    "df['flesch_kincaid_grade'] = df['Sentence'].apply(lambda x: textstat.flesch_kincaid_grade(x))\n",
    "df['gunning_fog'] = df['Sentence'].apply(lambda x: textstat.gunning_fog(x))\n",
    "df['smog_index'] = df['Sentence'].apply(lambda x: textstat.smog_index(x))\n",
    "df['coleman_liau_index'] = df['Sentence'].apply(lambda x: textstat.coleman_liau_index(x))\n",
    "df['automated_readability_index'] = df['Sentence'].apply(lambda x: textstat.automated_readability_index(x))\n",
    "df['dale_chall_readability_score'] = df['Sentence'].apply(lambda x: textstat.dale_chall_readability_score(x))\n",
    "df['difficult_words'] = df['Sentence'].apply(lambda x: textstat.difficult_words(x))\n",
    "df['linsear_write_formula'] = df['Sentence'].apply(lambda x: textstat.linsear_write_formula(x))\n",
    "#%time df['text_standard'] = df['Sentence'].apply(lambda x: textstat.text_standard(x))"
   ]
  },
  {
   "cell_type": "code",
   "execution_count": null,
   "metadata": {},
   "outputs": [],
   "source": [
    "#check df\n",
    "df.shape"
   ]
  },
  {
   "cell_type": "code",
   "execution_count": null,
   "metadata": {},
   "outputs": [],
   "source": [
    "#generate text features\n",
    "#here we manually tuned min_df, ngram_range, and max_features\n",
    "from sklearn.feature_extraction.text import TfidfVectorizer\n",
    "\n",
    "tfidf_vectorizer = TfidfVectorizer(min_df=15, ngram_range=[1,2], max_features=1000, stop_words='english')\n",
    "dtm_tfidf = tfidf_vectorizer.fit_transform(df['Sentence'])\n",
    "\n",
    "bow_df_tfidf = pd.DataFrame(dtm_tfidf.toarray(), columns=tfidf_vectorizer.get_feature_names(), index=df.index)\n",
    "\n",
    "df_bow_tfidf = pd.concat([df, bow_df_tfidf], axis=1)\n",
    "df_bow_tfidf.drop(columns=['Sentence'], inplace=True)\n",
    "df_bow_tfidf.shape\n",
    "df_bow_tfidf.head()"
   ]
  },
  {
   "cell_type": "code",
   "execution_count": null,
   "metadata": {},
   "outputs": [],
   "source": [
    "#split data after pre-processing for modeling\n",
    "test_final = df_bow_tfidf[df_bow_tfidf['Type'] == 'test']\n",
    "train_final = df_bow_tfidf[df_bow_tfidf['Type'] == 'train']"
   ]
  },
  {
   "cell_type": "code",
   "execution_count": null,
   "metadata": {},
   "outputs": [],
   "source": [
    "#check data\n",
    "test_final.shape"
   ]
  },
  {
   "cell_type": "code",
   "execution_count": null,
   "metadata": {},
   "outputs": [],
   "source": [
    "train_final.shape"
   ]
  },
  {
   "cell_type": "code",
   "execution_count": null,
   "metadata": {},
   "outputs": [],
   "source": [
    "#drop type column\n",
    "train_final = train_final.drop(columns=['Type'])\n",
    "test_final = test_final.drop(columns=['Type'])"
   ]
  },
  {
   "cell_type": "code",
   "execution_count": null,
   "metadata": {},
   "outputs": [],
   "source": [
    "y_train = train_final['Polarity']\n",
    "y_test = test_final['Polarity']\n",
    "X_train = train_final.drop(columns=['Polarity'])\n",
    "X_test = test_final.drop(columns=['Polarity'])"
   ]
  },
  {
   "cell_type": "code",
   "execution_count": null,
   "metadata": {},
   "outputs": [],
   "source": [
    "X_train.shape"
   ]
  },
  {
   "cell_type": "code",
   "execution_count": null,
   "metadata": {},
   "outputs": [],
   "source": [
    "X_test.shape"
   ]
  },
  {
   "cell_type": "code",
   "execution_count": null,
   "metadata": {},
   "outputs": [],
   "source": [
    "y_train.shape"
   ]
  },
  {
   "cell_type": "code",
   "execution_count": null,
   "metadata": {},
   "outputs": [],
   "source": [
    "y_test.shape"
   ]
  },
  {
   "cell_type": "code",
   "execution_count": null,
   "metadata": {},
   "outputs": [],
   "source": [
    "#import sklearn package and run Decision Tree Classifier\n",
    "from sklearn.tree import DecisionTreeClassifier\n",
    "from sklearn.preprocessing import StandardScaler\n",
    "from sklearn.model_selection import train_test_split\n",
    "from sklearn.model_selection import cross_val_score\n",
    "\n",
    "#Scale the data to minimize extremes\n",
    "scaler = StandardScaler()\n",
    "X_train = scaler.fit_transform(X_train)\n",
    "X_test = scaler.fit_transform(X_test)\n",
    "\n",
    "#Run decision tree classifier\n",
    "clf = DecisionTreeClassifier(random_state=42, min_samples_split=10, min_samples_leaf=10, max_depth=6)\n",
    "clf.fit(X_train, y_train)"
   ]
  },
  {
   "cell_type": "code",
   "execution_count": null,
   "metadata": {},
   "outputs": [],
   "source": [
    "#Predict on test data\n",
    "clf_predition = clf.predict(X_test)"
   ]
  },
  {
   "cell_type": "code",
   "execution_count": null,
   "metadata": {},
   "outputs": [],
   "source": [
    "#get feature importances\n",
    "clf.feature_importances_"
   ]
  },
  {
   "cell_type": "code",
   "execution_count": null,
   "metadata": {},
   "outputs": [],
   "source": [
    "#compute feature importances\n",
    "imp = clf.tree_.compute_feature_importances(normalize=False)\n",
    "ind = sorted(range(len(imp)), key=lambda i: imp[i])[-15:]\n",
    "\n",
    "imp[ind]\n",
    "feature_names[ind]"
   ]
  },
  {
   "cell_type": "code",
   "execution_count": null,
   "metadata": {},
   "outputs": [],
   "source": [
    "#print confusion matrix\n",
    "from sklearn.metrics import confusion_matrix\n",
    "\n",
    "confusion_matrix(y_test, clf_predition)"
   ]
  },
  {
   "cell_type": "code",
   "execution_count": null,
   "metadata": {},
   "outputs": [],
   "source": [
    "#print decision tree classification report\n",
    "from sklearn.metrics import classification_report\n",
    "print(classification_report(y_test, clf_predition))"
   ]
  },
  {
   "cell_type": "code",
   "execution_count": null,
   "metadata": {},
   "outputs": [],
   "source": [
    "#plot tree\n",
    "from sklearn.tree import plot_tree\n",
    "\n",
    "plt.figure(figsize=[20,10]);\n",
    "plot_tree(clf, filled=True, feature_names = feature_names, label='root', fontsize=14)\n",
    "plt.show();"
   ]
  },
  {
   "cell_type": "code",
   "execution_count": null,
   "metadata": {
    "scrolled": true
   },
   "outputs": [],
   "source": [
    "#compare other models\n",
    "from sklearn.experimental import enable_hist_gradient_boosting\n",
    "from sklearn.ensemble import RandomForestClassifier, AdaBoostClassifier, GradientBoostingClassifier, HistGradientBoostingClassifier\n",
    "from sklearn.model_selection import train_test_split\n",
    "from sklearn.preprocessing import StandardScaler, OneHotEncoder, LabelEncoder\n",
    "from sklearn.metrics import accuracy_score, confusion_matrix, classification_report\n",
    "from sklearn.naive_bayes import GaussianNB\n",
    "\n",
    "print(\"NB\")\n",
    "\n",
    "gnb = GaussianNB()\n",
    "%time gnb = gnb.fit(X_train, y_train)\n",
    "\n",
    "y_pred_nb = gnb.predict(X_test)\n",
    "print(accuracy_score(y_test, y_pred_nb))\n",
    "print(confusion_matrix(y_test, y_pred_nb))\n",
    "print(classification_report(y_test, y_pred_nb))\n",
    "\n",
    "gnb.theta_\n",
    "\n",
    "\n",
    "print(\"\\n\\nKNN\")\n",
    "from sklearn.neighbors import KNeighborsClassifier\n",
    "\n",
    "knn_clf = KNeighborsClassifier(n_neighbors=15)\n",
    "knn_clf.fit(X_train, y_train)\n",
    "\n",
    "y_pred_knn = knn_clf.predict(X_test)\n",
    "print(accuracy_score(y_test, y_pred_knn))\n",
    "print(confusion_matrix(y_test, y_pred_knn))\n",
    "print(classification_report(y_test, y_pred_knn))\n",
    "\n",
    "\n",
    "print(\"\\n\\nRF\")\n",
    "clf = RandomForestClassifier(n_estimators=500, max_depth=10, random_state=55)\n",
    "%time clf.fit(X_train, y_train)\n",
    "\n",
    "imp = pd.DataFrame(clf.feature_importances_, index = feature_names, columns=['importance']).sort_values('importance', ascending=False).iloc[0:15,:]\n",
    "print(imp)\n",
    "\n",
    "y_pred = clf.predict(X_test)\n",
    "print(accuracy_score(y_test, y_pred))\n",
    "print(confusion_matrix(y_test, y_pred))\n",
    "print(classification_report(y_test, y_pred))\n",
    "\n",
    "print(\"\\n\\nAdaboost\")\n",
    "ada_clf = AdaBoostClassifier(n_estimators=200)\n",
    "%time ada_clf.fit(X_train, y_train)\n",
    "y_pred = clf.predict(X_test)\n",
    "print(accuracy_score(y_test, y_pred))\n",
    "print(confusion_matrix(y_test, y_pred))\n",
    "print(classification_report(y_test, y_pred))\n",
    "\n",
    "print(\"\\n\\nGBC\")\n",
    "gbc_clf = GradientBoostingClassifier(n_estimators=100, learning_rate=1.0, max_depth=1, random_state=45)\n",
    "%time gbc_clf.fit(X_train, y_train)\n",
    "y_pred = gbc_clf.predict(X_test)\n",
    "print(accuracy_score(y_test, y_pred))\n",
    "print(confusion_matrix(y_test, y_pred))\n",
    "print(classification_report(y_test, y_pred))\n",
    "\n",
    "print(\"\\n\\nHGBC\")\n",
    "hgbc_clf = HistGradientBoostingClassifier(max_iter=100).fit(X_train, y_train)\n",
    "hgbc_clf.score(X_test, y_test)\n",
    "y_pred = hgbc_clf.predict(X_test)\n",
    "print(accuracy_score(y_test, y_pred))\n",
    "print(confusion_matrix(y_test, y_pred))\n",
    "print(classification_report(y_test, y_pred))"
   ]
  },
  {
   "cell_type": "code",
   "execution_count": null,
   "metadata": {},
   "outputs": [],
   "source": [
    "#Select Gradient Boosting Classifer as the model to tune\n",
    "gbc_clf = GradientBoostingClassifier(random_state=45)"
   ]
  },
  {
   "cell_type": "code",
   "execution_count": null,
   "metadata": {},
   "outputs": [],
   "source": [
    "#Setup Parameter Gridsearch features\n",
    "param_grid = { \n",
    "'learning_rate': [0.01,0.02,0.03],\n",
    "'subsample'    : [0.9, 0.5, 0.2],\n",
    "'n_estimators' : [100,500,1000],\n",
    "'max_depth'    : [4,6,8]\n",
    "}"
   ]
  },
  {
   "cell_type": "code",
   "execution_count": null,
   "metadata": {
    "scrolled": true
   },
   "outputs": [],
   "source": [
    "#Gridsearch to figure out optimal parameters\n",
    "from sklearn.model_selection import GridSearchCV\n",
    "\n",
    "gbc_clf = GridSearchCV(estimator=gbc_clf, param_grid=param_grid, cv= 3, verbose=10)\n",
    "gbc_clf.fit(X_train, y_train)"
   ]
  },
  {
   "cell_type": "code",
   "execution_count": null,
   "metadata": {},
   "outputs": [],
   "source": [
    "#See best parameters\n",
    "gbc_clf.best_params_"
   ]
  },
  {
   "cell_type": "code",
   "execution_count": null,
   "metadata": {},
   "outputs": [],
   "source": [
    "#Select GBC as final model and enter best parameters from GridSearch to tune\n",
    "\n",
    "print(\"\\n\\nGBC\")\n",
    "gbc_clf = GradientBoostingClassifier(random_state=45, learning_rate = 0.05, n_estimators = 500, max_depth = 12, subsample = 0.9)\n",
    "%time gbc_clf.fit(X_train, y_train)\n",
    "y_pred = gbc_clf.predict(X_test)\n",
    "print(accuracy_score(y_test, y_pred))\n",
    "print(confusion_matrix(y_test, y_pred))\n",
    "print(classification_report(y_test, y_pred))\n",
    "\n",
    "imp = pd.DataFrame(gbc_clf.feature_importances_, index = feature_names, columns=['importance']).sort_values('importance', ascending=False).iloc[0:20,:]\n",
    "print(imp)"
   ]
  },
  {
   "cell_type": "code",
   "execution_count": null,
   "metadata": {},
   "outputs": [],
   "source": [
    "#Export predictions\n",
    "np.savetxt(\"final_predictions.csv\", y_pred, delimiter=\",\")"
   ]
  }
 ],
 "metadata": {
  "kernelspec": {
   "display_name": "Python 3",
   "language": "python",
   "name": "python3"
  },
  "language_info": {
   "codemirror_mode": {
    "name": "ipython",
    "version": 3
   },
   "file_extension": ".py",
   "mimetype": "text/x-python",
   "name": "python",
   "nbconvert_exporter": "python",
   "pygments_lexer": "ipython3",
   "version": "3.7.6"
  }
 },
 "nbformat": 4,
 "nbformat_minor": 4
}
